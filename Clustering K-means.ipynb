{
 "cells": [
  {
   "cell_type": "code",
   "execution_count": null,
   "id": "ac86ad61",
   "metadata": {},
   "outputs": [],
   "source": [
    "import numpy as np \n",
    "import pandas as pd\n",
    "import matplotlib.pyplot as plt\n",
    "import seaborn as sns\n",
    "sns.set()"
   ]
  },
  {
   "cell_type": "code",
   "execution_count": null,
   "id": "02b08298",
   "metadata": {},
   "outputs": [],
   "source": [
    "df = pd.read_csv('Mall_Customers.csv')\n",
    "df.head"
   ]
  },
  {
   "cell_type": "markdown",
   "id": "ceca20d8",
   "metadata": {},
   "source": [
    "# EDA"
   ]
  },
  {
   "cell_type": "code",
   "execution_count": null,
   "id": "e6d421e5",
   "metadata": {},
   "outputs": [],
   "source": [
    "df.isnull().sum()"
   ]
  },
  {
   "cell_type": "code",
   "execution_count": null,
   "id": "20bbc524",
   "metadata": {},
   "outputs": [],
   "source": [
    "df.describe()"
   ]
  },
  {
   "cell_type": "code",
   "execution_count": null,
   "id": "c63850d0",
   "metadata": {},
   "outputs": [],
   "source": [
    "df.info()"
   ]
  },
  {
   "cell_type": "markdown",
   "id": "0b5c4fd2",
   "metadata": {},
   "source": [
    "## CustomerID"
   ]
  },
  {
   "cell_type": "code",
   "execution_count": null,
   "id": "c69b0e39",
   "metadata": {},
   "outputs": [],
   "source": [
    "df.drop('CustomerID',axis=1,inplace=True)\n",
    "df.head"
   ]
  },
  {
   "cell_type": "markdown",
   "id": "24a2cff7",
   "metadata": {},
   "source": [
    "## Gender"
   ]
  },
  {
   "cell_type": "code",
   "execution_count": null,
   "id": "c5d5a9cb",
   "metadata": {},
   "outputs": [],
   "source": [
    "sns.countplot(x= df.Gender)"
   ]
  },
  {
   "cell_type": "markdown",
   "id": "45eb6508",
   "metadata": {},
   "source": [
    "## Age"
   ]
  },
  {
   "cell_type": "code",
   "execution_count": null,
   "id": "82590d91",
   "metadata": {},
   "outputs": [],
   "source": [
    "sns.histplot(df.Age, kde=True);"
   ]
  },
  {
   "cell_type": "markdown",
   "id": "3dd82f95",
   "metadata": {},
   "source": [
    "## Annual Income (k$)"
   ]
  },
  {
   "cell_type": "code",
   "execution_count": null,
   "id": "13245401",
   "metadata": {},
   "outputs": [],
   "source": [
    "df.rename({'Annual Income (k$)': 'Income'}, axis =1, inplace = True)"
   ]
  },
  {
   "cell_type": "code",
   "execution_count": null,
   "id": "0ea57a5b",
   "metadata": {},
   "outputs": [],
   "source": [
    "sns.histplot(df.Income, kde=True);"
   ]
  },
  {
   "cell_type": "code",
   "execution_count": null,
   "id": "26287bda",
   "metadata": {},
   "outputs": [],
   "source": [
    "sns.scatterplot(y= df.Income, x= df.Age, hue= df.Gender);"
   ]
  },
  {
   "cell_type": "markdown",
   "id": "9597f705",
   "metadata": {},
   "source": [
    "## Spending Score (1-100)"
   ]
  },
  {
   "cell_type": "code",
   "execution_count": null,
   "id": "e028fbc4",
   "metadata": {},
   "outputs": [],
   "source": [
    "df.rename({'Spending Score (1-100)': 'Score'}, axis =1, inplace = True)"
   ]
  },
  {
   "cell_type": "code",
   "execution_count": null,
   "id": "3304e840",
   "metadata": {},
   "outputs": [],
   "source": [
    "sns.histplot(df.Score, kde=True);"
   ]
  },
  {
   "cell_type": "code",
   "execution_count": null,
   "id": "4d3792e3",
   "metadata": {},
   "outputs": [],
   "source": [
    "sns.scatterplot(y= df.Income, x= df.Score);"
   ]
  },
  {
   "cell_type": "code",
   "execution_count": null,
   "id": "ea76a7fe",
   "metadata": {},
   "outputs": [],
   "source": [
    "sns.scatterplot(y= df.Age, x= df.Score);"
   ]
  },
  {
   "cell_type": "code",
   "execution_count": null,
   "id": "3de7da68",
   "metadata": {},
   "outputs": [],
   "source": [
    "sns.scatterplot(y= df.Income, x= df.Score);"
   ]
  },
  {
   "cell_type": "markdown",
   "id": "36d5e8d4",
   "metadata": {},
   "source": [
    "This is the most informative visualization till now, as we can observe about 5 clusters:\n",
    "1. Low Score, Low Income\n",
    "2. Low Score, High Income\n",
    "3. Mid Score, Mid Income\n",
    "4. High Score, Low Income\n",
    "5. High Score, High Income"
   ]
  },
  {
   "cell_type": "markdown",
   "id": "6e46b7cb",
   "metadata": {},
   "source": [
    "**Considering only those two features, we can build our first**"
   ]
  },
  {
   "cell_type": "code",
   "execution_count": null,
   "id": "4bbaaf15",
   "metadata": {},
   "outputs": [],
   "source": [
    "X= df[['Income', 'Score']].values"
   ]
  },
  {
   "cell_type": "code",
   "execution_count": null,
   "id": "bdd5788c",
   "metadata": {},
   "outputs": [],
   "source": [
    "# Scaling\n",
    "from sklearn.preprocessing import StandardScaler\n",
    "scaler = StandardScaler()\n",
    "X_scaled = scaler.fit_transform(X)"
   ]
  },
  {
   "cell_type": "markdown",
   "id": "21f55309",
   "metadata": {},
   "source": [
    "# Clustering using K-means"
   ]
  },
  {
   "cell_type": "code",
   "execution_count": null,
   "id": "a9dcbd38",
   "metadata": {},
   "outputs": [],
   "source": [
    "from sklearn.cluster import KMeans\n",
    "\n",
    "km5 = KMeans(n_clusters= 5, init='k-means++', random_state=0)\n",
    "y_pred = km5.fit_predict(X_scaled)"
   ]
  },
  {
   "cell_type": "code",
   "execution_count": null,
   "id": "4ff496bc",
   "metadata": {},
   "outputs": [],
   "source": [
    "km5 = KMeans(n_clusters= 5, init='k-means++', random_state=0)\n",
    "km5.fit(X_scaled)"
   ]
  },
  {
   "cell_type": "code",
   "execution_count": null,
   "id": "74a0b039",
   "metadata": {},
   "outputs": [],
   "source": [
    "(y_pred == km5.labels_).all()"
   ]
  },
  {
   "cell_type": "code",
   "execution_count": null,
   "id": "92e38f43",
   "metadata": {},
   "outputs": [],
   "source": [
    "km5.labels_.shape"
   ]
  },
  {
   "cell_type": "code",
   "execution_count": null,
   "id": "d6f5980d",
   "metadata": {},
   "outputs": [],
   "source": [
    "km5.labels_"
   ]
  },
  {
   "cell_type": "code",
   "execution_count": null,
   "id": "01e41dc1",
   "metadata": {},
   "outputs": [],
   "source": [
    "km5.inertia_"
   ]
  },
  {
   "cell_type": "code",
   "execution_count": null,
   "id": "8445e59e",
   "metadata": {},
   "outputs": [],
   "source": [
    "km5 = KMeans(n_clusters= 5, init='k-means++', random_state=0)\n",
    "km5.fit(X_scaled)\n",
    "km5.score(X_scaled)"
   ]
  },
  {
   "cell_type": "code",
   "execution_count": null,
   "id": "b4eafdc8",
   "metadata": {},
   "outputs": [],
   "source": [
    "X.shape"
   ]
  },
  {
   "cell_type": "code",
   "execution_count": null,
   "id": "8f694cd6",
   "metadata": {},
   "outputs": [],
   "source": [
    "X[y_pred == 0]"
   ]
  },
  {
   "cell_type": "code",
   "execution_count": null,
   "id": "12f2e4f1",
   "metadata": {},
   "outputs": [],
   "source": [
    "X[y_pred == 0][:,0]"
   ]
  },
  {
   "cell_type": "code",
   "execution_count": null,
   "id": "02a6a5cc",
   "metadata": {},
   "outputs": [],
   "source": [
    "X[y_pred == 0,0]"
   ]
  },
  {
   "cell_type": "code",
   "execution_count": null,
   "id": "b941f93d",
   "metadata": {},
   "outputs": [],
   "source": [
    "X[y_pred == 0,1]"
   ]
  },
  {
   "cell_type": "code",
   "execution_count": null,
   "id": "1232faaf",
   "metadata": {},
   "outputs": [],
   "source": [
    "plt.scatter(X[y_pred == 0, 0], X[y_pred == 0, 1], s = 100, c = 'red', label = 'Cluster 1')"
   ]
  },
  {
   "cell_type": "code",
   "execution_count": null,
   "id": "a7e75688",
   "metadata": {},
   "outputs": [],
   "source": [
    "#Visualizing all the clusters \n",
    "plt.figure(figsize=(10,10))\n",
    "plt.scatter(X[y_pred == 0, 0], X[y_pred == 0, 1], s = 100, c = 'red', label = 'Cluster 1')\n",
    "plt.scatter(X[y_pred == 1, 0], X[y_pred == 1, 1], s = 100, c = 'blue', label = 'Cluster 2')\n",
    "plt.scatter(X[y_pred == 2, 0], X[y_pred == 2, 1], s = 100, c = 'green', label = 'Cluster 3')\n",
    "plt.scatter(X[y_pred == 3, 0], X[y_pred == 3, 1], s = 100, c = 'yellow', label = 'Cluster 4')\n",
    "plt.scatter(X[y_pred == 4, 0], X[y_pred == 4, 1], s = 100, c = 'brown', label = 'Cluster 5')\n",
    "\n",
    "plt.title('Clusters of customers')\n",
    "plt.xlabel('Annual Income (k$)')\n",
    "plt.ylabel('Spending Score (1-100)')\n",
    "plt.legend()\n",
    "plt.show()"
   ]
  },
  {
   "cell_type": "markdown",
   "id": "0f69d960",
   "metadata": {},
   "source": [
    "**We can try different number of clusters to find the optimum number of clusters using Elbow Method**"
   ]
  },
  {
   "cell_type": "markdown",
   "id": "b100f8ce",
   "metadata": {},
   "source": [
    "## Elbow Method"
   ]
  },
  {
   "cell_type": "code",
   "execution_count": null,
   "id": "7646788e",
   "metadata": {},
   "outputs": [],
   "source": [
    "# Within-cluster Sum of Squares (Inertia)\n",
    "inertia=[]\n",
    "k_range= range(2,11)\n",
    "\n",
    "for i in k_range:\n",
    "    kmeans = KMeans(n_clusters= i, init='k-means++', random_state=0)\n",
    "    kmeans.fit(X)\n",
    "    inertia.append(kmeans.inertia_)\n",
    "\n",
    "#Visualizing the ELBOW method to get the optimal value of K \n",
    "fig, ax = plt.subplots(figsize=(12, 8))\n",
    "sns.lineplot(x=k_range, y=inertia, ax=ax)\n",
    "plt.title('The Elbow Method')\n",
    "plt.xlabel('No of clusters \"k\"')\n",
    "plt.ylabel('Inertia')\n",
    "\n",
    "# Annotate arrow\n",
    "ax.annotate('Optimal No. of clusters', xy=(5, 46000), xytext=(5, 80000), xycoords='data',          \n",
    "             arrowprops=dict(arrowstyle='->', connectionstyle='arc3', color='blue', lw=2))\n",
    "\n",
    "plt.show()\n"
   ]
  },
  {
   "cell_type": "markdown",
   "id": "4d3e0a56",
   "metadata": {},
   "source": [
    "> ## Elbow Method shows that the optimal number of clusters is 5"
   ]
  }
 ],
 "metadata": {
  "kernelspec": {
   "display_name": "base",
   "language": "python",
   "name": "python3"
  },
  "language_info": {
   "codemirror_mode": {
    "name": "ipython",
    "version": 3
   },
   "file_extension": ".py",
   "mimetype": "text/x-python",
   "name": "python",
   "nbconvert_exporter": "python",
   "pygments_lexer": "ipython3",
   "version": "3.12.7"
  }
 },
 "nbformat": 4,
 "nbformat_minor": 5
}
